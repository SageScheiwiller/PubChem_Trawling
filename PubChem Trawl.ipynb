{
 "cells": [
  {
   "cell_type": "markdown",
   "metadata": {},
   "source": [
    "## Using Python to pull specific Pubchem properties for a list of compounds to a directed chart"
   ]
  },
  {
   "cell_type": "code",
   "execution_count": 129,
   "metadata": {},
   "outputs": [],
   "source": [
    "import pubchempy as pcp\n",
    "import numpy as np\n",
    "import pandas as pd"
   ]
  },
  {
   "cell_type": "markdown",
   "metadata": {},
   "source": [
    "### Set list of compounds"
   ]
  },
  {
   "cell_type": "code",
   "execution_count": 2,
   "metadata": {},
   "outputs": [],
   "source": [
    "Drug = ['Quinine']\n",
    "DEScompounds = ['Quinine','Lactic Acid', 'D-Fructose','Choline Chloride','Urea','D-Glucose','Glycine','Malic Acid', 'L-Proline']\n",
    "Possibilities = ['Thymol', 'Decanoic Acid']\n",
    "Solventcompounds = ['']"
   ]
  },
  {
   "cell_type": "markdown",
   "metadata": {},
   "source": [
    "### Finding the compound ID numbers for each desired compound and creating a list of them"
   ]
  },
  {
   "cell_type": "code",
   "execution_count": 22,
   "metadata": {},
   "outputs": [
    {
     "name": "stdout",
     "output_type": "stream",
     "text": [
      "[Compound(3034034)]\n"
     ]
    }
   ],
   "source": [
    "#test\n",
    "result = pcp.get_compounds('Quinine', 'name')\n",
    "print(result)"
   ]
  },
  {
   "cell_type": "code",
   "execution_count": 96,
   "metadata": {},
   "outputs": [
    {
     "name": "stdout",
     "output_type": "stream",
     "text": [
      "[3034034, 612, 2723872, 6209, 1176, 5793, 750, 525, 145742]\n"
     ]
    }
   ],
   "source": [
    "results = []\n",
    "# Can change the compounds desired by changing the list it cycles through or by changing the compounds included in DEScompounds\n",
    "for compound in DEScompounds:\n",
    "    results.append(pcp.get_cids(compound, 'name'))\n",
    "# produces a nested list with each cid acting as new list - to access easily needs to be flattened\n",
    "\n",
    "#takes each value and appends it separately - creating a flattened list of cids for each compound in the proposed list\n",
    "cids = []\n",
    "for result in results:\n",
    "    for val in result:\n",
    "        cids.append(val)\n",
    "        \n",
    "print(cids)\n"
   ]
  },
  {
   "cell_type": "markdown",
   "metadata": {},
   "source": [
    "### Method can be repeated for each desired variable - below for Molecular Weight"
   ]
  },
  {
   "cell_type": "code",
   "execution_count": 116,
   "metadata": {},
   "outputs": [
    {
     "name": "stdout",
     "output_type": "stream",
     "text": [
      "[{'CID': 3034034, 'MolecularWeight': 324.424}]\n",
      "324.424\n"
     ]
    }
   ],
   "source": [
    "#TEST\n",
    "prop = pcp.get_properties('MolecularWeight','Quinine', namespace = 'name')\n",
    "print(prop)\n",
    "MW1 = prop[0]['MolecularWeight']\n",
    "print(MW1)"
   ]
  },
  {
   "cell_type": "code",
   "execution_count": 122,
   "metadata": {},
   "outputs": [
    {
     "name": "stdout",
     "output_type": "stream",
     "text": [
      "[324.424, 90.078, 180.156, 139.623, 60.056, 180.156, 75.067, 134.087, 115.132]\n"
     ]
    }
   ],
   "source": [
    "results = []\n",
    "combined = []\n",
    "DesiredProp = 'MolecularWeight'\n",
    "\n",
    "for compound in DEScompounds:\n",
    "    results = pcp.get_properties(DesiredProp, compound, namespace = 'name')\n",
    "# produces a list with a dictonary of requested values within it - in order to pull a indivual list of values, needs to be idexed into a separate list\n",
    "    combined.append(results[0][DesiredProp])\n",
    "    #print(combined)\n",
    "\n",
    "MW = combined   \n",
    "print(MW)"
   ]
  },
  {
   "cell_type": "code",
   "execution_count": 126,
   "metadata": {},
   "outputs": [
    {
     "name": "stdout",
     "output_type": "stream",
     "text": [
      "[1, 2, 5, 1, 2, 5, 2, 3, 2]\n"
     ]
    }
   ],
   "source": [
    "results = []\n",
    "combined = []\n",
    "DesiredProp = 'HBondDonorCount'\n",
    "\n",
    "for compound in DEScompounds:\n",
    "    results = pcp.get_properties(DesiredProp, compound, namespace = 'name')\n",
    "# produces a list with a dictonary of requested values within it - in order to pull a indivual list of values, needs to be idexed into a separate list\n",
    "    combined.append(results[0][DesiredProp])\n",
    "    #print(combined)\n",
    "\n",
    "HDonor = combined   \n",
    "print(HDonor)"
   ]
  },
  {
   "cell_type": "code",
   "execution_count": 127,
   "metadata": {},
   "outputs": [
    {
     "name": "stdout",
     "output_type": "stream",
     "text": [
      "[4, 3, 6, 2, 1, 6, 3, 5, 3]\n"
     ]
    }
   ],
   "source": [
    "results = []\n",
    "combined = []\n",
    "DesiredProp = 'HBondAcceptorCount'\n",
    "\n",
    "for compound in DEScompounds:\n",
    "    results = pcp.get_properties(DesiredProp, compound, namespace = 'name')\n",
    "# produces a list with a dictonary of requested values within it - in order to pull a indivual list of values, needs to be idexed into a separate list\n",
    "    combined.append(results[0][DesiredProp])\n",
    "    #print(combined)\n",
    "\n",
    "HAccept = combined   \n",
    "print(HAccept)"
   ]
  },
  {
   "cell_type": "code",
   "execution_count": 128,
   "metadata": {},
   "outputs": [
    {
     "name": "stdout",
     "output_type": "stream",
     "text": [
      "[45.6, 57.5, 110, 20.2, 69.1, 110, 63.3, 94.8, 49.3]\n"
     ]
    }
   ],
   "source": [
    "results = []\n",
    "combined = []\n",
    "DesiredProp = 'TPSA'\n",
    "\n",
    "for compound in DEScompounds:\n",
    "    results = pcp.get_properties(DesiredProp, compound, namespace = 'name')\n",
    "# produces a list with a dictonary of requested values within it - in order to pull a indivual list of values, needs to be idexed into a separate list\n",
    "    combined.append(results[0][DesiredProp])\n",
    "    #print(combined)\n",
    "\n",
    "PolarSA = combined   \n",
    "print(PolarSA)"
   ]
  },
  {
   "cell_type": "markdown",
   "metadata": {},
   "source": [
    "### Create a pandas Dataframe from the values pulled above"
   ]
  },
  {
   "cell_type": "code",
   "execution_count": 133,
   "metadata": {},
   "outputs": [
    {
     "data": {
      "text/html": [
       "<div>\n",
       "<style scoped>\n",
       "    .dataframe tbody tr th:only-of-type {\n",
       "        vertical-align: middle;\n",
       "    }\n",
       "\n",
       "    .dataframe tbody tr th {\n",
       "        vertical-align: top;\n",
       "    }\n",
       "\n",
       "    .dataframe thead th {\n",
       "        text-align: right;\n",
       "    }\n",
       "</style>\n",
       "<table border=\"1\" class=\"dataframe\">\n",
       "  <thead>\n",
       "    <tr style=\"text-align: right;\">\n",
       "      <th></th>\n",
       "      <th>Compound</th>\n",
       "      <th>cID</th>\n",
       "      <th>Molecular Weight</th>\n",
       "      <th>H donor Count</th>\n",
       "      <th>H Acceptor Cout</th>\n",
       "      <th>Total Polar SA</th>\n",
       "    </tr>\n",
       "  </thead>\n",
       "  <tbody>\n",
       "    <tr>\n",
       "      <th>0</th>\n",
       "      <td>Quinine</td>\n",
       "      <td>3034034</td>\n",
       "      <td>324.424</td>\n",
       "      <td>1</td>\n",
       "      <td>4</td>\n",
       "      <td>45.6</td>\n",
       "    </tr>\n",
       "    <tr>\n",
       "      <th>1</th>\n",
       "      <td>Lactic Acid</td>\n",
       "      <td>612</td>\n",
       "      <td>90.078</td>\n",
       "      <td>2</td>\n",
       "      <td>3</td>\n",
       "      <td>57.5</td>\n",
       "    </tr>\n",
       "    <tr>\n",
       "      <th>2</th>\n",
       "      <td>D-Fructose</td>\n",
       "      <td>2723872</td>\n",
       "      <td>180.156</td>\n",
       "      <td>5</td>\n",
       "      <td>6</td>\n",
       "      <td>110.0</td>\n",
       "    </tr>\n",
       "    <tr>\n",
       "      <th>3</th>\n",
       "      <td>Choline Chloride</td>\n",
       "      <td>6209</td>\n",
       "      <td>139.623</td>\n",
       "      <td>1</td>\n",
       "      <td>2</td>\n",
       "      <td>20.2</td>\n",
       "    </tr>\n",
       "    <tr>\n",
       "      <th>4</th>\n",
       "      <td>Urea</td>\n",
       "      <td>1176</td>\n",
       "      <td>60.056</td>\n",
       "      <td>2</td>\n",
       "      <td>1</td>\n",
       "      <td>69.1</td>\n",
       "    </tr>\n",
       "    <tr>\n",
       "      <th>5</th>\n",
       "      <td>D-Glucose</td>\n",
       "      <td>5793</td>\n",
       "      <td>180.156</td>\n",
       "      <td>5</td>\n",
       "      <td>6</td>\n",
       "      <td>110.0</td>\n",
       "    </tr>\n",
       "    <tr>\n",
       "      <th>6</th>\n",
       "      <td>Glycine</td>\n",
       "      <td>750</td>\n",
       "      <td>75.067</td>\n",
       "      <td>2</td>\n",
       "      <td>3</td>\n",
       "      <td>63.3</td>\n",
       "    </tr>\n",
       "    <tr>\n",
       "      <th>7</th>\n",
       "      <td>Malic Acid</td>\n",
       "      <td>525</td>\n",
       "      <td>134.087</td>\n",
       "      <td>3</td>\n",
       "      <td>5</td>\n",
       "      <td>94.8</td>\n",
       "    </tr>\n",
       "    <tr>\n",
       "      <th>8</th>\n",
       "      <td>L-Proline</td>\n",
       "      <td>145742</td>\n",
       "      <td>115.132</td>\n",
       "      <td>2</td>\n",
       "      <td>3</td>\n",
       "      <td>49.3</td>\n",
       "    </tr>\n",
       "  </tbody>\n",
       "</table>\n",
       "</div>"
      ],
      "text/plain": [
       "           Compound      cID  Molecular Weight  H donor Count  \\\n",
       "0           Quinine  3034034           324.424              1   \n",
       "1       Lactic Acid      612            90.078              2   \n",
       "2        D-Fructose  2723872           180.156              5   \n",
       "3  Choline Chloride     6209           139.623              1   \n",
       "4              Urea     1176            60.056              2   \n",
       "5         D-Glucose     5793           180.156              5   \n",
       "6           Glycine      750            75.067              2   \n",
       "7        Malic Acid      525           134.087              3   \n",
       "8         L-Proline   145742           115.132              2   \n",
       "\n",
       "   H Acceptor Cout  Total Polar SA  \n",
       "0                4            45.6  \n",
       "1                3            57.5  \n",
       "2                6           110.0  \n",
       "3                2            20.2  \n",
       "4                1            69.1  \n",
       "5                6           110.0  \n",
       "6                3            63.3  \n",
       "7                5            94.8  \n",
       "8                3            49.3  "
      ]
     },
     "execution_count": 133,
     "metadata": {},
     "output_type": "execute_result"
    }
   ],
   "source": [
    "df = pd.DataFrame()\n",
    "df['Compound'] = DEScompounds\n",
    "df['cID']= cids\n",
    "df['Molecular Weight']= MW\n",
    "df['H donor Count'] =HDonor\n",
    "df['H Acceptor Cout']= HAccept\n",
    "df['Total Polar SA']= PolarSA\n",
    "df.head(10)"
   ]
  },
  {
   "cell_type": "code",
   "execution_count": null,
   "metadata": {},
   "outputs": [],
   "source": []
  }
 ],
 "metadata": {
  "kernelspec": {
   "display_name": "Python 3",
   "language": "python",
   "name": "python3"
  },
  "language_info": {
   "codemirror_mode": {
    "name": "ipython",
    "version": 3
   },
   "file_extension": ".py",
   "mimetype": "text/x-python",
   "name": "python",
   "nbconvert_exporter": "python",
   "pygments_lexer": "ipython3",
   "version": "3.6.8"
  }
 },
 "nbformat": 4,
 "nbformat_minor": 2
}
